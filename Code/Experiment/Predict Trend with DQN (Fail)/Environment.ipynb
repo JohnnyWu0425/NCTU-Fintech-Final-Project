{
 "cells": [
  {
   "cell_type": "markdown",
   "metadata": {},
   "source": [
    "## Import Package"
   ]
  },
  {
   "cell_type": "code",
   "execution_count": 34,
   "metadata": {},
   "outputs": [],
   "source": [
    "import pandas as pd\n",
    "import numpy as np\n",
    "import random"
   ]
  },
  {
   "cell_type": "markdown",
   "metadata": {},
   "source": [
    "## Environment"
   ]
  },
  {
   "cell_type": "code",
   "execution_count": 2,
   "metadata": {},
   "outputs": [],
   "source": [
    "class Environment():\n",
    "    \n",
    "    def __init__(self, stock1=\"F\", stock2=\"GM\"):\n",
    "        # get two stocks' close price\n",
    "        self.stock1_price = self.get_close_price(filename=stock1)\n",
    "        self.stock2_price = self.get_close_price(filename=stock2)\n",
    "        self.spread_ratio = None\n",
    "        \n",
    "        # let stock1_price > stock2_price\n",
    "        self.reset_stock_order()\n",
    "        \n",
    "        # genearte label: label for spread ratio\n",
    "        self.label = self.generate_label()\n",
    "        \n",
    "        # current time interval\n",
    "        self.cur_ti = 19\n",
    "        \n",
    "        \n",
    "    def get_close_price(self, filename):\n",
    "        stock_df = pd.read_csv(\"../../Data/{}.csv\".format(filename))\n",
    "        return stock_df[\"Close\"].values[:1000]\n",
    "    \n",
    "    \n",
    "    def reset_stock_order(self):\n",
    "        if self.stock1_price.mean() < self.stock2_price.mean():\n",
    "            self.stock1_price, self.stock2_price = self.stock2_price, self.stock1_price\n",
    "        \n",
    "        \n",
    "    def generate_label(self):\n",
    "        self.spread_ratio = self.stock1_price/self.stock2_price\n",
    "        \n",
    "        ma_20 = []\n",
    "        pressure = []\n",
    "        support = []\n",
    "\n",
    "        for idx, value in enumerate(self.spread_ratio):\n",
    "            if idx < 19:\n",
    "                continue\n",
    "            ma_20.append(self.spread_ratio[idx-19:idx+1].mean())\n",
    "            std = self.spread_ratio[idx-19:idx+1].std()\n",
    "            pressure.append(ma_20[-1] + 2*std)\n",
    "            support.append(ma_20[-1] - 2*std)\n",
    "            \n",
    "        self.temp = ma_20\n",
    "        \n",
    "        label = []\n",
    "        for idx, value in enumerate(self.spread_ratio[19:]):\n",
    "            if value >= pressure[idx] or value <= support[idx]:\n",
    "                label.append(1)\n",
    "            elif abs(value-ma_20[idx])<=0.01:\n",
    "                label.append(-1)\n",
    "            else:\n",
    "                label.append(0)\n",
    "                \n",
    "        return label\n",
    "    \n",
    "    def reset(self):\n",
    "        self.cur_ti = 19\n",
    "        return self.spread_ratio[self.cur_ti-19:self.cur_ti+1]\n",
    "    \n",
    "    def step(self, action):\n",
    "        # calculate reward\n",
    "        if self.label[self.cur_ti-19] == 0:\n",
    "            if action == 0:\n",
    "                reward = 1\n",
    "            else:\n",
    "                reward = -1\n",
    "        elif self.label[self.cur_ti-19] == 1:\n",
    "            if action == self.label[self.cur_ti-19]:\n",
    "                reward = 5.5\n",
    "            else:\n",
    "                reward = -6.5\n",
    "                \n",
    "        else:\n",
    "            if action == self.label[self.cur_ti-19]:\n",
    "                reward = 7\n",
    "            else:\n",
    "                reward = -3\n",
    "            \n",
    "        self.cur_ti = random.sample(range(19, 980), 1)[0]\n",
    "        \n",
    "        if self.cur_ti+1 == len(self.stock1_price):\n",
    "            is_done = True\n",
    "        else:\n",
    "            is_done = False\n",
    "        \n",
    "        new_state = self.spread_ratio[self.cur_ti-19:self.cur_ti+1]/100\n",
    "        \n",
    "        return new_state, reward, is_done, self.label[self.cur_ti]"
   ]
  }
 ],
 "metadata": {
  "kernelspec": {
   "display_name": "Python 3",
   "language": "python",
   "name": "python3"
  },
  "language_info": {
   "codemirror_mode": {
    "name": "ipython",
    "version": 3
   },
   "file_extension": ".py",
   "mimetype": "text/x-python",
   "name": "python",
   "nbconvert_exporter": "python",
   "pygments_lexer": "ipython3",
   "version": "3.7.9"
  }
 },
 "nbformat": 4,
 "nbformat_minor": 4
}
